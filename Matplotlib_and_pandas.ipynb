{
 "cells": [
  {
   "cell_type": "markdown",
   "metadata": {
    "id": "1e7-YENWfruA"
   },
   "source": [
    "#Exploring Data Visualization with Matplotlib in Google Colab\n",
    "\n",
    "Welcome to this hands-on exercise on data visualization using Matplotlib in Google Colab! Matplotlib is a powerful and widely used library for creating static, animated, and interactive visualizations in Python.\n",
    "\n",
    "Upload the company_sales_data.csv given in the Github repo to your gdrive and mount your google drive for the following exercises. Read this file using Pandas or NumPy or using in-built matplotlib function."
   ]
  },
  {
   "cell_type": "code",
   "execution_count": null,
   "metadata": {
    "id": "3mce9alwf6_s"
   },
   "outputs": [],
   "source": [
    "%matplotlib inline\n",
    "import pandas as pd\n",
    "from matplotlib import pyplot as plt\n"
   ]
  },
  {
   "cell_type": "markdown",
   "metadata": {
    "id": "CnP0p2G-evKz"
   },
   "source": [
    "Exercise 1: Read Total profit of all months and show it using a line plot\n",
    "Total profit data provided for each month. Generated line plot must include the following properties: –\n",
    "\n",
    "Line Style dotted and Line-color should be red  \n",
    "Show legend at the lower right location.  \n",
    "X label name = Month Number  \n",
    "Y label name = Sold units number  \n",
    "Add a circle marker.  \n",
    "Line marker color as read  \n",
    "Line width should be 3  "
   ]
  },
  {
   "cell_type": "code",
   "execution_count": null,
   "metadata": {
    "id": "fxHeVHtaejsL"
   },
   "outputs": [],
   "source": [
    "data=pd.read_csv('company_sales_data.csv')\n",
    "plt.plot(data['month_number'],data['total_profit'],linestyle='dotted',color='red',marker=\"o\",mfc=\"red\",linewidth=3)\n",
    "plt.xlabel(\"Month Number\")\n",
    "plt.ylabel(\"Sold units number\")\n",
    "plt.legend([\"Total Profit\"],loc='lower right')\n",
    "plt.show()\n"
   ]
  },
  {
   "cell_type": "markdown",
   "metadata": {
    "id": "ILCkGHzce2Aj"
   },
   "source": [
    "Exercise 2: Read all product sales data and show it  using a multiline plot.\n",
    " Display the number of units sold per month for each product using multiline plots. (i.e., Separate Plotline and different color for each product )."
   ]
  },
  {
   "cell_type": "code",
   "execution_count": null,
   "metadata": {
    "id": "uYkBIax0fPfv"
   },
   "outputs": [],
   "source": [
    "data=pd.read_csv(\"company_sales_data.csv\")\n",
    "plt.plot(data['month_number'],data['facecream'],label=\"Facecream\")\n",
    "plt.plot(data['month_number'],data['facewash'],label=\"Facewash\")\n",
    "plt.plot(data['month_number'],data['toothpaste'],label=\"Toothpaste\")\n",
    "plt.plot(data['month_number'],data['bathingsoap'],label=\"Bathingsoap\")\n",
    "plt.plot(data['month_number'],data['moisturizer'],label=\"Moisturizer\")\n",
    "\n",
    "plt.legend()\n",
    "plt.show()\n"
   ]
  },
  {
   "cell_type": "markdown",
   "metadata": {
    "id": "ZS1DIXivfRKE"
   },
   "source": [
    "Exercise 3: Calculate total sale data for last year for each product and show it using a Pie chart  \n",
    "Note: In Pie chart display Number of units sold per year for each product in percentage.\n"
   ]
  },
  {
   "cell_type": "code",
   "execution_count": null,
   "metadata": {
    "id": "qi30DsdOffd9"
   },
   "outputs": [],
   "source": [
    "dataframe=pd.read_csv('company_sales_data.csv')\n",
    "data=dataframe.to_numpy()\n",
    "sales=data[0:12,1:7]\n",
    "totalsales=sales.sum(axis=0)\n",
    "products=dataframe.columns[1:7]\n",
    "\n",
    "plt.pie(totalsales,labels=products,autopct=\"%0.2f%%\")\n",
    "plt.show()"
   ]
  },
  {
   "cell_type": "code",
   "execution_count": null,
   "metadata": {},
   "outputs": [],
   "source": []
  },
  {
   "cell_type": "code",
   "execution_count": null,
   "metadata": {},
   "outputs": [],
   "source": []
  }
 ],
 "metadata": {
  "colab": {
   "provenance": []
  },
  "kernelspec": {
   "display_name": "Python 3 (ipykernel)",
   "language": "python",
   "name": "python3"
  },
  "language_info": {
   "codemirror_mode": {
    "name": "ipython",
    "version": 3
   },
   "file_extension": ".py",
   "mimetype": "text/x-python",
   "name": "python",
   "nbconvert_exporter": "python",
   "pygments_lexer": "ipython3",
   "version": "3.12.1"
  }
 },
 "nbformat": 4,
 "nbformat_minor": 4
}
