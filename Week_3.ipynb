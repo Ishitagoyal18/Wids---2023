{
  "cells": [
    {
      "cell_type": "markdown",
      "metadata": {
        "id": "4lFWhSEEwc9F"
      },
      "source": [
        "#MNIST\n",
        "Our objective is to build a neural network for the classification of the MNIST dataset. This neural network will comprise two layers, each with 10 nodes, and an input layer with 784 nodes corresponding to the image pixels. The specific structure of the neural network is outlined below, where $X$ represents the input, $A^{[0]}$ denotes the first layer, $Z^{[1]}$ signifies the unactivated layer 1, $A^{[1]}$ stands for the activated layer 1, and so forth. The weights and biases are represented by $W$ and $b$ respectively:\n"
      ]
    },
    {
      "cell_type": "code",
      "source": [],
      "metadata": {
        "id": "MjQbF3RM-4QP"
      },
      "execution_count": null,
      "outputs": []
    },
    {
      "cell_type": "markdown",
      "metadata": {
        "id": "dDanK4nEwfhh"
      },
      "source": [
        "<div align=\"center\">\n",
        "\n",
        "$A^{[0]}=X$\n",
        "\n",
        "$Z^{[1]}=W^{[1]}A^{[0]}+b^{[1]}$\n",
        "\n",
        "$A^{[1]}=\\text{ReLU}(Z^{[1]})$\n",
        "\n",
        "$Z^{[2]}=W^{[2]}A^{[1]}+b^{[2]}$\n",
        "\n",
        "$A^{[2]}=\\text{softmax}(Z^{[2]})$\n",
        "</div>\n",
        "\n",
        "\n"
      ]
    },
    {
      "cell_type": "markdown",
      "metadata": {
        "id": "YzBJgODl4aDp"
      },
      "source": [
        "You have the flexibility to create any function within or outside the class, allowing you to modify parameters as needed"
      ]
    },
    {
      "cell_type": "code",
      "execution_count": 1,
      "metadata": {
        "id": "8A6ScQ-8lzWy"
      },
      "outputs": [],
      "source": [
        "#importing libraries\n",
        "import pandas as pd\n",
        "import numpy as np\n",
        "\n",
        "from keras.datasets import mnist\n",
        "import matplotlib.pyplot as plt"
      ]
    },
    {
      "cell_type": "markdown",
      "metadata": {
        "id": "TGVN81yBnufX"
      },
      "source": [
        "### Required functions"
      ]
    },
    {
      "cell_type": "code",
      "execution_count": 2,
      "metadata": {
        "id": "N4A3X8zjh5My"
      },
      "outputs": [],
      "source": [
        "# activation and loss functions\n",
        "def ReLU(x):\n",
        "    return np.maximum(0,x)\n",
        "\n",
        "\n",
        "def derivative_ReLU(x):\n",
        "    return np.where(x > 0, 1, 0)\n",
        "\n",
        "def softmax(x):\n",
        "    exp_x = np.exp(x - np.max(x))\n",
        "    return exp_x / exp_x.sum(axis=0, keepdims=True)\n"
      ]
    },
    {
      "cell_type": "code",
      "execution_count": 3,
      "metadata": {
        "id": "Vqdn0Wv0mFNE"
      },
      "outputs": [],
      "source": [
        "#complete the class of neural network\n",
        "\n",
        "class NN:\n",
        "  def __init__():\n",
        "\n",
        "      W1 = np.random.randn(10,784)\n",
        "\n",
        "      b1 = np.zeros(10)\n",
        "      W2 = np.random.randn(10, 10)\n",
        "      b2 = np.zeros(10)\n",
        "      return W1,b1,W2,b2\n",
        "\n",
        "  def forward_propagation(x,w1,w2,b1,b2):\n",
        "\n",
        "\n",
        "      z1 = np.dot(w1,x)+b1\n",
        "      a1 = ReLU(z1)\n",
        "      z2 = np.dot(w2,a1)+b2\n",
        "      a2 = softmax(z2)\n",
        "      return a2\n",
        "\n",
        "  def one_hot(y_train): #return a 0 vector with 1 only in the position corresponding to the value in test target\n",
        "      return np.eye(10)[y_train]\n",
        "  def loss():\n",
        "      s = np.square(out - Y)\n",
        "      s = np.sum(s) / len(Y)\n",
        "      return s\n",
        "\n",
        "  def backward_propagation(x,y,w1,b1,w2,b2):\n",
        "      m=x.shape[0]\n",
        "      z1  = np.dot(w1,x)+b1\n",
        "      a1 = ReLU(z1)\n",
        "      z2 = np.dot(w2,a1)+b2\n",
        "      a2 = softmax(z2)\n",
        "      dz2 = a2-y\n",
        "      dw2= np.dot(dz2,a1.T)\n",
        "\n",
        "      dz1 = np.dot(w2.T,dz2)*derivative_ReLU(z1)\n",
        "      db1 = np.sum(dz1, axis=1, keepdims=True)\n",
        "      db2 = np.sum(dz2, axis=1, keepdims=True)\n",
        "      dw1= np.dot(dz1, x)\n",
        "      return dw1,dw2,db1,db2\n",
        "\n",
        "\n",
        "\n",
        "\n",
        "\n",
        "\n",
        "\n",
        "  def update_params(w1,w2,b1,b2,dw1,dw2,db1,db2):\n",
        "      w1 = w1 - 0.001*dw1\n",
        "      b1 = b1 -0.001*db1\n",
        "      w2 = w2 - 0.001*dw2\n",
        "      b2 = b2 -0.001*db2\n",
        "      return w1,w2,b1,b2\n",
        "\n",
        "\n",
        "  def get_predictions(w1,w2,b1,b2,xtest):\n",
        "      y_pred = forward_propagation(xtest,w1,w2,b1,b2)\n",
        "      return y_pred\n",
        "  def get_accuracy(y_pred,y_actual):\n",
        "      return np.sum(y_pred==y_actual)/len(y_pred)\n",
        "\n",
        "\n",
        "  def gradient_descent(x,y,w1,w2,b1,b2):\n",
        "\n",
        "      for i in range(1000):\n",
        "        a2=NN.forward_propagation(x,w1,w2,b1,b2)\n",
        "        dw1,dw2,db1,db2 =NN.backward_propagation(x,y,w1,b1,w2,b2)\n",
        "        w1,w2,b1,b2 =NN.update_params(w1,w2,b1,b2,dw1,dw2,db1,db2)\n",
        "\n",
        "      return w1,w2,b1,b2\n",
        "\n",
        "  def make_predictions(self):\n",
        "      pass\n",
        "\n",
        "  def show_prediction(self): #show the prediction and actual output for an image in mnist dataset\n",
        "      pass\n"
      ]
    },
    {
      "cell_type": "markdown",
      "metadata": {
        "id": "FsgNaz6qmoLI"
      },
      "source": [
        "## main"
      ]
    },
    {
      "cell_type": "code",
      "execution_count": 4,
      "metadata": {
        "id": "iIbC5z1Lmlcr",
        "colab": {
          "base_uri": "https://localhost:8080/"
        },
        "outputId": "c523e379-1b0e-46d2-a80b-49c8940152cd"
      },
      "outputs": [
        {
          "output_type": "stream",
          "name": "stdout",
          "text": [
            "Downloading data from https://storage.googleapis.com/tensorflow/tf-keras-datasets/mnist.npz\n",
            "11490434/11490434 [==============================] - 0s 0us/step\n"
          ]
        }
      ],
      "source": [
        "(X_train, Y_train), (X_test, Y_test) = mnist.load_data()"
      ]
    },
    {
      "cell_type": "markdown",
      "metadata": {
        "id": "ymme4NNNmws9"
      },
      "source": [
        "###preprocessing the data\n"
      ]
    },
    {
      "cell_type": "code",
      "execution_count": 5,
      "metadata": {
        "id": "B8YjLpUwm678"
      },
      "outputs": [],
      "source": [
        "X_train, X_test = X_train / 255.0, X_test / 255.0\n",
        "Y_train_onehot = NN.one_hot(Y_train)\n",
        "\n",
        "\n",
        "w1,b1,w2,b2=NN.__init__()\n",
        "a0= X_train.resize(784,1)"
      ]
    },
    {
      "cell_type": "markdown",
      "metadata": {
        "id": "B5dqfE25m7ZD"
      },
      "source": [
        "###Model Training"
      ]
    },
    {
      "cell_type": "code",
      "execution_count": 6,
      "metadata": {
        "id": "G05ggxM1m_n0",
        "colab": {
          "base_uri": "https://localhost:8080/",
          "height": 234
        },
        "outputId": "418e2acb-0769-47e7-99ef-d343f415d0b3"
      },
      "outputs": [
        {
          "output_type": "error",
          "ename": "TypeError",
          "evalue": "unsupported operand type(s) for *: 'float' and 'NoneType'",
          "traceback": [
            "\u001b[0;31m---------------------------------------------------------------------------\u001b[0m",
            "\u001b[0;31mTypeError\u001b[0m                                 Traceback (most recent call last)",
            "\u001b[0;32m<ipython-input-6-6b2ae579804f>\u001b[0m in \u001b[0;36m<cell line: 1>\u001b[0;34m()\u001b[0m\n\u001b[0;32m----> 1\u001b[0;31m \u001b[0mw1\u001b[0m\u001b[0;34m,\u001b[0m\u001b[0mw2\u001b[0m\u001b[0;34m,\u001b[0m\u001b[0mb1\u001b[0m\u001b[0;34m,\u001b[0m\u001b[0mb2\u001b[0m\u001b[0;34m=\u001b[0m\u001b[0mNN\u001b[0m\u001b[0;34m.\u001b[0m\u001b[0mgradient_descent\u001b[0m\u001b[0;34m(\u001b[0m\u001b[0ma0\u001b[0m\u001b[0;34m,\u001b[0m\u001b[0mY_train_onehot\u001b[0m\u001b[0;34m,\u001b[0m\u001b[0mw1\u001b[0m\u001b[0;34m,\u001b[0m\u001b[0mw2\u001b[0m\u001b[0;34m,\u001b[0m\u001b[0mb1\u001b[0m\u001b[0;34m,\u001b[0m\u001b[0mb2\u001b[0m\u001b[0;34m)\u001b[0m\u001b[0;34m\u001b[0m\u001b[0;34m\u001b[0m\u001b[0m\n\u001b[0m",
            "\u001b[0;32m<ipython-input-3-cfb0eeac5cfb>\u001b[0m in \u001b[0;36mgradient_descent\u001b[0;34m(x, y, w1, w2, b1, b2)\u001b[0m\n\u001b[1;32m     66\u001b[0m \u001b[0;34m\u001b[0m\u001b[0m\n\u001b[1;32m     67\u001b[0m       \u001b[0;32mfor\u001b[0m \u001b[0mi\u001b[0m \u001b[0;32min\u001b[0m \u001b[0mrange\u001b[0m\u001b[0;34m(\u001b[0m\u001b[0;36m1000\u001b[0m\u001b[0;34m)\u001b[0m\u001b[0;34m:\u001b[0m\u001b[0;34m\u001b[0m\u001b[0;34m\u001b[0m\u001b[0m\n\u001b[0;32m---> 68\u001b[0;31m         \u001b[0ma2\u001b[0m\u001b[0;34m=\u001b[0m\u001b[0mNN\u001b[0m\u001b[0;34m.\u001b[0m\u001b[0mforward_propagation\u001b[0m\u001b[0;34m(\u001b[0m\u001b[0mx\u001b[0m\u001b[0;34m,\u001b[0m\u001b[0mw1\u001b[0m\u001b[0;34m,\u001b[0m\u001b[0mw2\u001b[0m\u001b[0;34m,\u001b[0m\u001b[0mb1\u001b[0m\u001b[0;34m,\u001b[0m\u001b[0mb2\u001b[0m\u001b[0;34m)\u001b[0m\u001b[0;34m\u001b[0m\u001b[0;34m\u001b[0m\u001b[0m\n\u001b[0m\u001b[1;32m     69\u001b[0m         \u001b[0mdw1\u001b[0m\u001b[0;34m,\u001b[0m\u001b[0mdw2\u001b[0m\u001b[0;34m,\u001b[0m\u001b[0mdb1\u001b[0m\u001b[0;34m,\u001b[0m\u001b[0mdb2\u001b[0m \u001b[0;34m=\u001b[0m\u001b[0mNN\u001b[0m\u001b[0;34m.\u001b[0m\u001b[0mbackward_propagation\u001b[0m\u001b[0;34m(\u001b[0m\u001b[0mx\u001b[0m\u001b[0;34m,\u001b[0m\u001b[0my\u001b[0m\u001b[0;34m,\u001b[0m\u001b[0mw1\u001b[0m\u001b[0;34m,\u001b[0m\u001b[0mb1\u001b[0m\u001b[0;34m,\u001b[0m\u001b[0mw2\u001b[0m\u001b[0;34m,\u001b[0m\u001b[0mb2\u001b[0m\u001b[0;34m)\u001b[0m\u001b[0;34m\u001b[0m\u001b[0;34m\u001b[0m\u001b[0m\n\u001b[1;32m     70\u001b[0m         \u001b[0mw1\u001b[0m\u001b[0;34m,\u001b[0m\u001b[0mw2\u001b[0m\u001b[0;34m,\u001b[0m\u001b[0mb1\u001b[0m\u001b[0;34m,\u001b[0m\u001b[0mb2\u001b[0m \u001b[0;34m=\u001b[0m\u001b[0mNN\u001b[0m\u001b[0;34m.\u001b[0m\u001b[0mupdate_params\u001b[0m\u001b[0;34m(\u001b[0m\u001b[0mw1\u001b[0m\u001b[0;34m,\u001b[0m\u001b[0mw2\u001b[0m\u001b[0;34m,\u001b[0m\u001b[0mb1\u001b[0m\u001b[0;34m,\u001b[0m\u001b[0mb2\u001b[0m\u001b[0;34m,\u001b[0m\u001b[0mdw1\u001b[0m\u001b[0;34m,\u001b[0m\u001b[0mdw2\u001b[0m\u001b[0;34m,\u001b[0m\u001b[0mdb1\u001b[0m\u001b[0;34m,\u001b[0m\u001b[0mdb2\u001b[0m\u001b[0;34m)\u001b[0m\u001b[0;34m\u001b[0m\u001b[0;34m\u001b[0m\u001b[0m\n",
            "\u001b[0;32m<ipython-input-3-cfb0eeac5cfb>\u001b[0m in \u001b[0;36mforward_propagation\u001b[0;34m(x, w1, w2, b1, b2)\u001b[0m\n\u001b[1;32m     14\u001b[0m \u001b[0;34m\u001b[0m\u001b[0m\n\u001b[1;32m     15\u001b[0m \u001b[0;34m\u001b[0m\u001b[0m\n\u001b[0;32m---> 16\u001b[0;31m       \u001b[0mz1\u001b[0m \u001b[0;34m=\u001b[0m \u001b[0mnp\u001b[0m\u001b[0;34m.\u001b[0m\u001b[0mdot\u001b[0m\u001b[0;34m(\u001b[0m\u001b[0mw1\u001b[0m\u001b[0;34m,\u001b[0m\u001b[0mx\u001b[0m\u001b[0;34m)\u001b[0m\u001b[0;34m+\u001b[0m\u001b[0mb1\u001b[0m\u001b[0;34m\u001b[0m\u001b[0;34m\u001b[0m\u001b[0m\n\u001b[0m\u001b[1;32m     17\u001b[0m       \u001b[0ma1\u001b[0m \u001b[0;34m=\u001b[0m \u001b[0mReLU\u001b[0m\u001b[0;34m(\u001b[0m\u001b[0mz1\u001b[0m\u001b[0;34m)\u001b[0m\u001b[0;34m\u001b[0m\u001b[0;34m\u001b[0m\u001b[0m\n\u001b[1;32m     18\u001b[0m       \u001b[0mz2\u001b[0m \u001b[0;34m=\u001b[0m \u001b[0mnp\u001b[0m\u001b[0;34m.\u001b[0m\u001b[0mdot\u001b[0m\u001b[0;34m(\u001b[0m\u001b[0mw2\u001b[0m\u001b[0;34m,\u001b[0m\u001b[0ma1\u001b[0m\u001b[0;34m)\u001b[0m\u001b[0;34m+\u001b[0m\u001b[0mb2\u001b[0m\u001b[0;34m\u001b[0m\u001b[0;34m\u001b[0m\u001b[0m\n",
            "\u001b[0;32m/usr/local/lib/python3.10/dist-packages/numpy/core/overrides.py\u001b[0m in \u001b[0;36mdot\u001b[0;34m(*args, **kwargs)\u001b[0m\n",
            "\u001b[0;31mTypeError\u001b[0m: unsupported operand type(s) for *: 'float' and 'NoneType'"
          ]
        }
      ],
      "source": [
        "w1,w2,b1,b2=NN.gradient_descent(a0,Y_train_onehot,w1,w2,b1,b2)\n"
      ]
    },
    {
      "cell_type": "markdown",
      "metadata": {
        "id": "sa-CT3UnnAsr"
      },
      "source": [
        "### Viewing Results\n"
      ]
    },
    {
      "cell_type": "code",
      "execution_count": null,
      "metadata": {
        "id": "WV9UEIHbnJKd"
      },
      "outputs": [],
      "source": [
        "Y_pred = NN.get_predictions(w1,w2,b1,b2,X_test)\n",
        "print(get_accuracy(Y_pred,Y_test)\n"
      ]
    }
  ],
  "metadata": {
    "colab": {
      "provenance": []
    },
    "kernelspec": {
      "display_name": "Python 3 (ipykernel)",
      "language": "python",
      "name": "python3"
    },
    "language_info": {
      "codemirror_mode": {
        "name": "ipython",
        "version": 3
      },
      "file_extension": ".py",
      "mimetype": "text/x-python",
      "name": "python",
      "nbconvert_exporter": "python",
      "pygments_lexer": "ipython3",
      "version": "3.12.1"
    }
  },
  "nbformat": 4,
  "nbformat_minor": 0
}