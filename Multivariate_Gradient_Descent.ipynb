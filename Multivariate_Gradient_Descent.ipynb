{
 "cells": [
  {
   "cell_type": "markdown",
   "metadata": {
    "id": "n_ZwYtYkkhMw"
   },
   "source": [
    "In this part of the assignment you have to implement multivariate gradient descent to find the minimas (local and global) of the given function:\n",
    "Note : you can find different minimas by changing your initialisation.  \n",
    "$f(x) = x^4 + x^2y^2 - y^2 + y^4 + 6$"
   ]
  },
  {
   "cell_type": "code",
   "execution_count": null,
   "metadata": {
    "id": "AGC301Ynkcth"
   },
   "outputs": [],
   "source": [
    "#f(x,y) = x**4 + x**2*y**2 - y**2 + y**4 +6\n",
    "#gradient descent(x,y)= [4*x**3 +2*x*y**2, 2*y*x**2 -2*y +4*y**3]\n",
    "\n",
    "def gradientwrtx(x,y):\n",
    "    dx = 4*x**3 +2*x*y**2\n",
    "    return dx\n",
    "def gradientwrty(x,y):\n",
    "     dy = 2*y*x**2 -2*y +4*y**3\n",
    "     return dy\n",
    "def minima(initialx ,initialy,lr,steps):\n",
    "    x=initialx\n",
    "    y=initialy\n",
    "    for i in range(steps):\n",
    "        x= x- lr*gradientwrtx(x,y)\n",
    "        y= y - lr*gradientwrty(x,y)\n",
    "    return x,y\n",
    "\n",
    "print(minima(1,1,0.0001,10000))\n",
    "print(minima(-1,-3,0.0001,10000))\n",
    "print(minima(0,0,0.0001,10000))\n",
    "\n",
    "\n",
    "\n",
    "    \n",
    "    \n",
    "    \n",
    "     \n",
    "    "
   ]
  },
  {
   "cell_type": "code",
   "execution_count": null,
   "metadata": {},
   "outputs": [],
   "source": []
  },
  {
   "cell_type": "code",
   "execution_count": null,
   "metadata": {},
   "outputs": [],
   "source": []
  },
  {
   "cell_type": "code",
   "execution_count": null,
   "metadata": {},
   "outputs": [],
   "source": []
  },
  {
   "cell_type": "code",
   "execution_count": null,
   "metadata": {},
   "outputs": [],
   "source": []
  }
 ],
 "metadata": {
  "colab": {
   "provenance": []
  },
  "kernelspec": {
   "display_name": "Python 3 (ipykernel)",
   "language": "python",
   "name": "python3"
  },
  "language_info": {
   "codemirror_mode": {
    "name": "ipython",
    "version": 3
   },
   "file_extension": ".py",
   "mimetype": "text/x-python",
   "name": "python",
   "nbconvert_exporter": "python",
   "pygments_lexer": "ipython3",
   "version": "3.12.1"
  }
 },
 "nbformat": 4,
 "nbformat_minor": 4
}
